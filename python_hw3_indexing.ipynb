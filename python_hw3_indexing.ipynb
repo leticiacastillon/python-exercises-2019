{
 "cells": [
  {
   "cell_type": "markdown",
   "metadata": {},
   "source": [
    "# Python Homework 3: Transforming and Searching\n",
    "\n",
    "\n",
    "### Evaluation\n",
    "\n",
    "To check the correctness of your code, we will run it against prepared test cases."
   ]
  },
  {
   "cell_type": "markdown",
   "metadata": {},
   "source": [
    "## Burrows–Wheeler transform\n",
    "\n",
    "In order to feasibly align millions of small reads to a genome, \n",
    "one needs to decrease the complexity (increase the speed)\n",
    "of the matching operation between any two sequences.\n",
    "\n",
    "One approach is to somehow preprocess the reference genome such that\n",
    "one could \"know\" where a given read may match.\n",
    "\n",
    "A good lecture by David Gifford explaining the algorithms used in the FM-index (\"full text - minute size index\") in more detail: https://youtu.be/P3ORBMon8aw?t=1020 (~1 h)\n",
    "\n",
    "The starting point in creating this index is obtaining the Burrows–Wheeler transform of the genome.\n",
    "\n",
    "### Assignment 3.1.\n",
    "\n",
    "Implement a Python function `burrows_wheeler_transform(sequence)` that implements the Burrows–Wheeler transform.\n",
    "You may use whichever approach you're comfortable with,\n",
    "either by generating the rotations matrix and taking the last column, or by using the suffix array formula.\n",
    "\n",
    "You may also structure the code as you like.\n",
    "Writing separate functions for specific operations may help you organize the overall structure of the code.\n",
    "\n",
    "***Tips***\n",
    "\n",
    "Remember to give meaningful names to your variables, functions, etc. and let the code speak for itself.\n",
    "Write comments where you think you need to clarify behaviour.\n",
    "\n",
    "It's not about esthetics. Future you and other people should be able to understand the code.\n",
    "Code is very often reused (even stuff we assume are one-offs) \n",
    "and it's frequently necessary to make slight adjustments when reusing.\n",
    "\n",
    "Also, if people can't understand your code, they can ever be fully convinced that it's correct.\n",
    "It's not always possible or feasible to design an exhaustive battery of tests to account for all cases."
   ]
  },
  {
   "cell_type": "code",
   "execution_count": null,
   "metadata": {},
   "outputs": [],
   "source": [
    "def burrows_wheeler_transform(sequence):\n",
    "    \"\"\"\n",
    "    Input: sequence = string to transform. \n",
    "    E.g. sequence = 'ABCD$'\n",
    "    \"\"\"\n",
    "    ### WRITE CODE HERE ###"
   ]
  },
  {
   "cell_type": "markdown",
   "metadata": {},
   "source": [
    "### Test"
   ]
  },
  {
   "cell_type": "code",
   "execution_count": null,
   "metadata": {},
   "outputs": [],
   "source": [
    "print(burrows_wheeler_transform('ACGTACGTACGTACGTACGTACGTTGCATGCA$') == 'AC$TTTTTCGGAAAAAATTCCCCCCGGGGGATG')"
   ]
  },
  {
   "cell_type": "markdown",
   "metadata": {},
   "source": [
    "### Assignment 3.2.\n",
    "\n",
    "The Burrows-Wheeler transform comes from data compression circles.\n",
    "One can leverage the BWT of a sequence to represent the transformed sequence using fewer characters.\n",
    "\n",
    "Describe in the cell below (as free text, not code) a way to take the BWT of a sequence (call it `T = bwt(sequence)`) and represent it using a shorter sequence (fewer characters). Remember that you should be able to retrieve `T` from this shorter sequence, i.e. there's no loss of information. "
   ]
  },
  {
   "cell_type": "markdown",
   "metadata": {},
   "source": []
  },
  {
   "cell_type": "markdown",
   "metadata": {},
   "source": [
    "## Binary search\n",
    "\n",
    "The binary (or \"bisection\") search method is a useful general-purpose approach to finding a value of interest in a sorted set of values.\n",
    "\n",
    "A nice feature in Python is that strings can be compared and sorted directly."
   ]
  },
  {
   "cell_type": "code",
   "execution_count": null,
   "metadata": {},
   "outputs": [],
   "source": [
    "print('abc' < 'abd')\n",
    "print('ab' < 'abc')"
   ]
  },
  {
   "cell_type": "markdown",
   "metadata": {},
   "source": [
    "The built-in library [bisect](https://docs.python.org/3/library/bisect.html) \n",
    "offers some functions to find where a query element can be inserted in a sorted list,\n",
    "either from the left (`bisect_left`), or from the right (`bisect_right`).\n",
    "\n",
    "The documentation page above has some recipes for using these functions.\n",
    "Below is an example use to search for a query item in a list."
   ]
  },
  {
   "cell_type": "code",
   "execution_count": null,
   "metadata": {},
   "outputs": [],
   "source": [
    "# This is how you import only a single definition (function, constant, class, etc) from a module\n",
    "# You can then use the name directly\n",
    "from bisect import bisect_left\n",
    "\n",
    "def binary_search_index(items, query_item):\n",
    "    \"\"\"\n",
    "    Locate the leftmost value exactly equal to query_item in items\n",
    "    and return its index or -1 if the value is not found\n",
    "    \n",
    "    Input: \n",
    "    items = list of comparable elements (integers, strings, etc)\n",
    "    query_item = item to search for in items (must be of same data type as elements in items)\n",
    "    \n",
    "    Output:\n",
    "    Index of matching value or -1 if not found\n",
    "    \"\"\"\n",
    "    i = bisect_left(items, query_item)\n",
    "    if i != len(items) and items[i] == query_item:\n",
    "        return i\n",
    "    return -1\n",
    "\n",
    "# Make sure the list of items to search through is actually sorted\n",
    "items = sorted(['abc', 'ab', 'abd', 'aba', 'aaa'])\n",
    "binary_search_index(items, 'xx')"
   ]
  },
  {
   "cell_type": "markdown",
   "metadata": {},
   "source": [
    "It is however useful to get a feeling for how binary search is implemented.\n",
    "\n",
    "### Assignment 3.2.\n",
    "\n",
    "Here you are given skeleton code for a binary search function from scratch.\n",
    "Fill in the blanks to finish the implementation of the binary search function."
   ]
  },
  {
   "cell_type": "code",
   "execution_count": null,
   "metadata": {},
   "outputs": [],
   "source": [
    "def binary_search(items, query_item):\n",
    "    \"\"\"\n",
    "    Locate the leftmost value exactly equal to query_item in items\n",
    "    and return its index or -1 if the value is not found\n",
    "    \n",
    "    Input: \n",
    "    items = list of comparable elements (integers, strings, etc)\n",
    "    query_item = item to search for in items (must be of same data type as elements in items)\n",
    "    \n",
    "    Output:\n",
    "    Index of matching value or -1 if not found\n",
    "    \"\"\"\n",
    "    # The idea is to consider iteratively halve the items list,\n",
    "    # since we know the values are sorted.\n",
    "    # We keep track of the current half to look in by using the bounding indices\n",
    "    \n",
    "    # Start off by considering the entire items list\n",
    "    first_index = 0\n",
    "    last_index = len(items) - 1\n",
    "\n",
    "    # Eventually, by updating \n",
    "    while first_index <= last_index:\n",
    "        \n",
    "        # Get middle index between first and last indices of current half\n",
    "        midpoint = ### WRITE CODE HERE ####\n",
    "        \n",
    "        # The query item is at the midpoint\n",
    "        if items[midpoint] == query_item:\n",
    "            return midpoint\n",
    "        \n",
    "        else:\n",
    "            # The list is sorted.\n",
    "            # So if the query item's value is less than the value at the current half midpoint,\n",
    "            # we know the query must be to the left of the midpoint.\n",
    "            if query_item < items[midpoint]:\n",
    "                # Bisect the current interval and take the left half\n",
    "                last_index =  ### WRITE CODE HERE ####\n",
    "                \n",
    "            # Otherwise, the query item must be to the right of the midpoint\n",
    "            else:\n",
    "                # Bisect the current interval and take the right half\n",
    "                first_index =  ### WRITE CODE HERE ####\n",
    "\n",
    "    return -1"
   ]
  },
  {
   "cell_type": "markdown",
   "metadata": {},
   "source": [
    "### Tests"
   ]
  },
  {
   "cell_type": "code",
   "execution_count": null,
   "metadata": {},
   "outputs": [],
   "source": [
    "items = sorted(['abc', 'ab', 'abd', 'aba', 'aaa'])\n",
    "print(items)\n",
    "print(binary_search_index(items, 'xx'))\n",
    "print(binary_search_index(items, 'abc'))"
   ]
  },
  {
   "cell_type": "code",
   "execution_count": null,
   "metadata": {},
   "outputs": [],
   "source": []
  }
 ],
 "metadata": {
  "kernelspec": {
   "display_name": "Python 3",
   "language": "python",
   "name": "python3"
  },
  "language_info": {
   "codemirror_mode": {
    "name": "ipython",
    "version": 3
   },
   "file_extension": ".py",
   "mimetype": "text/x-python",
   "name": "python",
   "nbconvert_exporter": "python",
   "pygments_lexer": "ipython3",
   "version": "3.6.6"
  }
 },
 "nbformat": 4,
 "nbformat_minor": 2
}
