{
 "cells": [
  {
   "cell_type": "markdown",
   "metadata": {},
   "source": [
    "# Python Preview"
   ]
  },
  {
   "cell_type": "markdown",
   "metadata": {},
   "source": [
    "We're going to review some useful Python functionality.\n",
    "For a more in-depth Python tutorial, see https://swcarpentry.github.io/python-novice-gapminder/\n",
    "\n",
    "Python is all about *readability*. \n",
    "Fun fact: people spend more time reading code than writing it.\n",
    "You (and other people) should understand what the code does from just reading it.\n",
    "\n",
    "### Popular because:\n",
    "\n",
    "* easy to understand by design\n",
    "* general purpose\n",
    "* fast to protoype more complex procedures (algorithms, pipelines)\n",
    "\n",
    "\n",
    "### Important principle of writing code: Use meaningful names\n",
    "\n",
    "**BAD**\n",
    "\n",
    "```python\n",
    "x = 10         # start at position 10\n",
    "x = f(x, 5)\n",
    "\n",
    "if q:\n",
    "    c = c + 8  # add 8 to cost\n",
    "else:\n",
    "    c = c + 2 \n",
    "```\n",
    "\n",
    "**BETTER**\n",
    "\n",
    "```python\n",
    "position = 10\n",
    "position = move_right(position, 5)\n",
    "\n",
    "COST_GAP = 8\n",
    "COST_TRANSITION = 2\n",
    "\n",
    "if gap:\n",
    "    cost = cost + COST_GAP\n",
    "else:\n",
    "    cost = cost + COST_TRANSITION\n",
    "```\n",
    "\n",
    "\n",
    "### Some References\n",
    "\n",
    "* MATLAB/Python/R correpsondence table of numerical functions http://mathesaurus.sourceforge.net/matlab-python-xref.pdf  (Note: assumes you have the installed the libraries NumPy and, optionally, IPython)\n",
    "* Official Tutorial: https://docs.python.org/3/tutorial/index.html   (please learn Python 3, not 2)"
   ]
  },
  {
   "cell_type": "markdown",
   "metadata": {},
   "source": [
    "## Some Python language elements"
   ]
  },
  {
   "cell_type": "markdown",
   "metadata": {},
   "source": [
    "### Lists and loops"
   ]
  },
  {
   "cell_type": "code",
   "execution_count": 9,
   "metadata": {},
   "outputs": [
    {
     "name": "stdout",
     "output_type": "stream",
     "text": [
      "Number of ingredients:  3\n"
     ]
    }
   ],
   "source": [
    "ingredients = ['eggs', 'bacon', 'spam']\n",
    "\n",
    "print('Number of ingredients: ', len(ingredients))"
   ]
  },
  {
   "cell_type": "markdown",
   "metadata": {},
   "source": [
    "#### Version1: Accessing list elements by their index"
   ]
  },
  {
   "cell_type": "code",
   "execution_count": 10,
   "metadata": {
    "scrolled": true
   },
   "outputs": [
    {
     "name": "stdout",
     "output_type": "stream",
     "text": [
      "eggs\n",
      "bacon\n",
      "spam\n"
     ]
    }
   ],
   "source": [
    "for i in range(len(ingredients)):\n",
    "    print(ingredients[i])"
   ]
  },
  {
   "cell_type": "markdown",
   "metadata": {},
   "source": [
    "#### Version2: Iterating over list elements directly"
   ]
  },
  {
   "cell_type": "code",
   "execution_count": 11,
   "metadata": {
    "scrolled": true
   },
   "outputs": [
    {
     "name": "stdout",
     "output_type": "stream",
     "text": [
      "eggs\n",
      "bacon\n",
      "spam\n"
     ]
    }
   ],
   "source": [
    "for item in ingredients:\n",
    "    print(item)"
   ]
  },
  {
   "cell_type": "code",
   "execution_count": 12,
   "metadata": {},
   "outputs": [
    {
     "data": {
      "text/plain": [
       "[[1, 2, 3], [4, 5, 6]]"
      ]
     },
     "execution_count": 12,
     "metadata": {},
     "output_type": "execute_result"
    }
   ],
   "source": [
    "the_list_of_lists = [[1, 2, 3], [4, 5, 6]]\n",
    "the_list_of_lists"
   ]
  },
  {
   "cell_type": "code",
   "execution_count": 13,
   "metadata": {},
   "outputs": [
    {
     "data": {
      "text/plain": [
       "6"
      ]
     },
     "execution_count": 13,
     "metadata": {},
     "output_type": "execute_result"
    }
   ],
   "source": [
    "the_list_of_lists[1][2]"
   ]
  },
  {
   "cell_type": "code",
   "execution_count": 14,
   "metadata": {},
   "outputs": [
    {
     "data": {
      "text/plain": [
       "list"
      ]
     },
     "execution_count": 14,
     "metadata": {},
     "output_type": "execute_result"
    }
   ],
   "source": [
    "type(the_list_of_lists)"
   ]
  },
  {
   "cell_type": "code",
   "execution_count": 106,
   "metadata": {
    "scrolled": true
   },
   "outputs": [
    {
     "name": "stdout",
     "output_type": "stream",
     "text": [
      "[4, 5, 4]\n",
      "13\n"
     ]
    }
   ],
   "source": [
    "accumulated_values = []\n",
    "total_value = 0\n",
    "\n",
    "for item in ingredients:\n",
    "    accumulated_values.append(len(item))\n",
    "    # accumulated_values = accumulated_values + len(item)\n",
    "    # accumulated_values += [len(item)]\n",
    "    \n",
    "    total_value = total_value + len(item)\n",
    "    # total_value += len(item)\n",
    "\n",
    "print(accumulated_values)\n",
    "print(total_value)"
   ]
  },
  {
   "cell_type": "markdown",
   "metadata": {},
   "source": [
    "#### Technical detail about list-creating functions"
   ]
  },
  {
   "cell_type": "markdown",
   "metadata": {},
   "source": [
    "Some Python functions that create lists don't do so immediately (mostly for the sake of efficiency).\n",
    "These are known as \"generators\" since they create the elements on demand.\n",
    "\n",
    "If we inspect them directly, we won't see the elments."
   ]
  },
  {
   "cell_type": "code",
   "execution_count": 167,
   "metadata": {},
   "outputs": [
    {
     "data": {
      "text/plain": [
       "range(0, 10)"
      ]
     },
     "execution_count": 167,
     "metadata": {},
     "output_type": "execute_result"
    }
   ],
   "source": [
    "range(10)"
   ]
  },
  {
   "cell_type": "markdown",
   "metadata": {},
   "source": [
    "If you need to use the list directly, you can convert them into a list, as below."
   ]
  },
  {
   "cell_type": "code",
   "execution_count": 168,
   "metadata": {},
   "outputs": [
    {
     "data": {
      "text/plain": [
       "[0, 1, 2, 3, 4, 5, 6, 7, 8, 9]"
      ]
     },
     "execution_count": 168,
     "metadata": {},
     "output_type": "execute_result"
    }
   ],
   "source": [
    "list(range(10))"
   ]
  },
  {
   "cell_type": "markdown",
   "metadata": {},
   "source": [
    "However, you can access elements by index:"
   ]
  },
  {
   "cell_type": "code",
   "execution_count": 169,
   "metadata": {},
   "outputs": [
    {
     "data": {
      "text/plain": [
       "5"
      ]
     },
     "execution_count": 169,
     "metadata": {},
     "output_type": "execute_result"
    }
   ],
   "source": [
    "range(10)[5]"
   ]
  },
  {
   "cell_type": "markdown",
   "metadata": {},
   "source": [
    "#### List permutations"
   ]
  },
  {
   "cell_type": "code",
   "execution_count": 7,
   "metadata": {},
   "outputs": [
    {
     "name": "stdout",
     "output_type": "stream",
     "text": [
      "(1, 2, 3)\n",
      "(1, 3, 2)\n",
      "(2, 1, 3)\n",
      "(2, 3, 1)\n",
      "(3, 1, 2)\n",
      "(3, 2, 1)\n"
     ]
    }
   ],
   "source": [
    "import itertools\n",
    "\n",
    "for permutation in list(itertools.permutations([1, 2, 3])):\n",
    "    print(permutation)"
   ]
  },
  {
   "cell_type": "markdown",
   "metadata": {},
   "source": [
    "#### Merging lists into tuples"
   ]
  },
  {
   "cell_type": "code",
   "execution_count": 30,
   "metadata": {},
   "outputs": [
    {
     "name": "stdout",
     "output_type": "stream",
     "text": [
      "abcdef\n",
      "[0, 1, 2, 3, 4, 5]\n"
     ]
    },
    {
     "data": {
      "text/plain": [
       "[('a', 0), ('b', 1), ('c', 2), ('d', 3), ('e', 4), ('f', 5)]"
      ]
     },
     "execution_count": 30,
     "metadata": {},
     "output_type": "execute_result"
    }
   ],
   "source": [
    "letters = 'abcdef'\n",
    "numbers = range(len(letters))\n",
    "\n",
    "print(letters)\n",
    "print(list(numbers))\n",
    "\n",
    "list(zip(letters, numbers))"
   ]
  },
  {
   "cell_type": "code",
   "execution_count": 41,
   "metadata": {},
   "outputs": [
    {
     "name": "stdout",
     "output_type": "stream",
     "text": [
      "[10, 9, 8, 7]\n"
     ]
    },
    {
     "data": {
      "text/plain": [
       "[('a', 0, 10), ('b', 1, 9), ('c', 2, 8), ('d', 3, 7)]"
      ]
     },
     "execution_count": 41,
     "metadata": {},
     "output_type": "execute_result"
    }
   ],
   "source": [
    "countdown = range(10, len(letters), -1)\n",
    "print(list(countdown))\n",
    "\n",
    "list(zip(letters, numbers, countdown))"
   ]
  },
  {
   "cell_type": "markdown",
   "metadata": {},
   "source": [
    "### Dictionaries\n",
    "\n",
    "\"hash maps\" or \"associative array\" in other languages"
   ]
  },
  {
   "cell_type": "code",
   "execution_count": 16,
   "metadata": {},
   "outputs": [
    {
     "name": "stdout",
     "output_type": "stream",
     "text": [
      "Data structure that implements an associative array abstract data type, a structure that can map keys to values.\n"
     ]
    }
   ],
   "source": [
    "definition = {'git': '(British slang) a stupid person',\n",
    "              'hash map': 'Data structure that implements an associative array abstract data type, a structure that can map keys to values.'}\n",
    "\n",
    "print(definition['hash map'])"
   ]
  },
  {
   "cell_type": "code",
   "execution_count": 25,
   "metadata": {},
   "outputs": [
    {
     "name": "stdout",
     "output_type": "stream",
     "text": [
      "{'D': 1, 'a': 17, 't': 16, ' ': 17, 's': 8, 'r': 7, 'u': 5, 'c': 5, 'e': 8, 'h': 2, 'i': 3, 'm': 3, 'p': 3, 'l': 2, 'n': 3, 'o': 2, 'v': 2, 'y': 3, 'b': 1, 'd': 1, ',': 1, 'k': 1, '.': 1}\n"
     ]
    },
    {
     "ename": "KeyError",
     "evalue": "'gamma'",
     "output_type": "error",
     "traceback": [
      "\u001b[0;31m---------------------------------------------------------------------------\u001b[0m",
      "\u001b[0;31mKeyError\u001b[0m                                  Traceback (most recent call last)",
      "\u001b[0;32m<ipython-input-25-78609514492a>\u001b[0m in \u001b[0;36m<module>\u001b[0;34m()\u001b[0m\n\u001b[1;32m     11\u001b[0m \u001b[0mprint\u001b[0m\u001b[0;34m(\u001b[0m\u001b[0mletter_count\u001b[0m\u001b[0;34m)\u001b[0m\u001b[0;34m\u001b[0m\u001b[0m\n\u001b[1;32m     12\u001b[0m \u001b[0;34m\u001b[0m\u001b[0m\n\u001b[0;32m---> 13\u001b[0;31m \u001b[0mletter_count\u001b[0m\u001b[0;34m[\u001b[0m\u001b[0;34m'gamma'\u001b[0m\u001b[0;34m]\u001b[0m\u001b[0;34m\u001b[0m\u001b[0m\n\u001b[0m",
      "\u001b[0;31mKeyError\u001b[0m: 'gamma'"
     ]
    }
   ],
   "source": [
    "text = 'Data structure that implements an associative array abstract data type, a structure that can map keys to values.'\n",
    "\n",
    "letter_count = dict()\n",
    "\n",
    "for letter in text:\n",
    "    if letter in letter_count:\n",
    "        letter_count[letter] += 1\n",
    "    else:\n",
    "        letter_count[letter] = 1\n",
    "        \n",
    "print(letter_count)\n",
    "\n",
    "letter_count['gamma']"
   ]
  },
  {
   "cell_type": "markdown",
   "metadata": {},
   "source": [
    "More convenient version"
   ]
  },
  {
   "cell_type": "code",
   "execution_count": 26,
   "metadata": {},
   "outputs": [
    {
     "name": "stdout",
     "output_type": "stream",
     "text": [
      "defaultdict(<class 'int'>, {'D': 1, 'a': 17, 't': 16, ' ': 17, 's': 8, 'r': 7, 'u': 5, 'c': 5, 'e': 8, 'h': 2, 'i': 3, 'm': 3, 'p': 3, 'l': 2, 'n': 3, 'o': 2, 'v': 2, 'y': 3, 'b': 1, 'd': 1, ',': 1, 'k': 1, '.': 1})\n"
     ]
    },
    {
     "data": {
      "text/plain": [
       "0"
      ]
     },
     "execution_count": 26,
     "metadata": {},
     "output_type": "execute_result"
    }
   ],
   "source": [
    "from collections import defaultdict\n",
    "\n",
    "letter_count = defaultdict(int)\n",
    "\n",
    "for letter in text:\n",
    "    letter_count[letter] += 1\n",
    "    \n",
    "print(letter_count)\n",
    "\n",
    "letter_count['gamma']"
   ]
  },
  {
   "cell_type": "markdown",
   "metadata": {},
   "source": [
    "### numpy library ~ MATLAB"
   ]
  },
  {
   "cell_type": "code",
   "execution_count": 87,
   "metadata": {},
   "outputs": [
    {
     "data": {
      "text/plain": [
       "array([[0., 0., 0., 0., 0., 0., 0., 0., 0., 0.],\n",
       "       [0., 0., 0., 0., 0., 0., 0., 0., 0., 0.],\n",
       "       [0., 0., 0., 0., 0., 0., 0., 0., 0., 0.],\n",
       "       [0., 0., 0., 0., 0., 0., 0., 0., 0., 0.],\n",
       "       [0., 0., 0., 0., 0., 0., 0., 0., 0., 0.],\n",
       "       [0., 0., 0., 0., 0., 0., 0., 0., 0., 0.],\n",
       "       [0., 0., 0., 0., 0., 0., 0., 0., 0., 0.],\n",
       "       [0., 0., 0., 0., 0., 0., 0., 0., 0., 0.],\n",
       "       [0., 0., 0., 0., 0., 0., 0., 0., 0., 0.],\n",
       "       [0., 0., 0., 0., 0., 0., 0., 0., 0., 0.]])"
      ]
     },
     "execution_count": 87,
     "metadata": {},
     "output_type": "execute_result"
    }
   ],
   "source": [
    "import numpy as np\n",
    "\n",
    "Z = np.zeros((10, 10))\n",
    "\n",
    "Z"
   ]
  },
  {
   "cell_type": "code",
   "execution_count": 95,
   "metadata": {},
   "outputs": [
    {
     "data": {
      "text/plain": [
       "numpy.ndarray"
      ]
     },
     "execution_count": 95,
     "metadata": {},
     "output_type": "execute_result"
    }
   ],
   "source": [
    "type(Z)"
   ]
  },
  {
   "cell_type": "markdown",
   "metadata": {},
   "source": [
    "NumPy `arrays` and `ndarrays` allow for MATLAB-like indexing:"
   ]
  },
  {
   "cell_type": "code",
   "execution_count": 86,
   "metadata": {},
   "outputs": [
    {
     "data": {
      "text/plain": [
       "0.0"
      ]
     },
     "execution_count": 86,
     "metadata": {},
     "output_type": "execute_result"
    }
   ],
   "source": [
    "Z[2, 4]"
   ]
  },
  {
   "cell_type": "markdown",
   "metadata": {},
   "source": [
    "### Functions"
   ]
  },
  {
   "cell_type": "code",
   "execution_count": 96,
   "metadata": {},
   "outputs": [
    {
     "data": {
      "text/plain": [
       "100"
      ]
     },
     "execution_count": 96,
     "metadata": {},
     "output_type": "execute_result"
    }
   ],
   "source": [
    "def func(x):\n",
    "    return x**2\n",
    "\n",
    "func(10)"
   ]
  },
  {
   "cell_type": "markdown",
   "metadata": {},
   "source": [
    "### Strings"
   ]
  },
  {
   "cell_type": "code",
   "execution_count": 159,
   "metadata": {},
   "outputs": [
    {
     "name": "stdout",
     "output_type": "stream",
     "text": [
      "H\n",
      "!\n",
      "Hello\n",
      "World!\n",
      "ello\n"
     ]
    }
   ],
   "source": [
    "sequence = \"Hello World!\"\n",
    "\n",
    "print(sequence[0])\n",
    "print(sequence[-1])\n",
    "print(sequence[:5])\n",
    "print(sequence[6:])\n",
    "print(sequence[1:5])"
   ]
  },
  {
   "cell_type": "code",
   "execution_count": 151,
   "metadata": {},
   "outputs": [
    {
     "name": "stdout",
     "output_type": "stream",
     "text": [
      "4\n"
     ]
    },
    {
     "data": {
      "text/plain": [
       "'o'"
      ]
     },
     "execution_count": 151,
     "metadata": {},
     "output_type": "execute_result"
    }
   ],
   "source": [
    "index_of_match = sequence.find('o')\n",
    "\n",
    "print(index_of_match)\n",
    "\n",
    "sequence[index_of_match]"
   ]
  },
  {
   "cell_type": "markdown",
   "metadata": {},
   "source": [
    "**Careful**! If `string.find()` returns `-1` it means \"no match found\".\n",
    "\n",
    "Better code:"
   ]
  },
  {
   "cell_type": "code",
   "execution_count": 154,
   "metadata": {},
   "outputs": [
    {
     "name": "stdout",
     "output_type": "stream",
     "text": [
      "Found: nada\n"
     ]
    }
   ],
   "source": [
    "index_of_match = sequence.find('z')\n",
    "\n",
    "if index_of_match >= 0:\n",
    "    print(sequence[index_of_match])\n",
    "else:\n",
    "    print(\"Found: nada\")"
   ]
  },
  {
   "cell_type": "code",
   "execution_count": 156,
   "metadata": {},
   "outputs": [
    {
     "name": "stdout",
     "output_type": "stream",
     "text": [
      "True\n",
      "False\n"
     ]
    }
   ],
   "source": [
    "print(sequence.startswith('Hello'))\n",
    "print(sequence.endswith('Bye!'))"
   ]
  },
  {
   "cell_type": "markdown",
   "metadata": {},
   "source": [
    "## Some Algorithms"
   ]
  },
  {
   "cell_type": "markdown",
   "metadata": {},
   "source": [
    "**Note** Here we use the terms \"cost\", \"distance\", and \"penalty\" interchangeably since in this context they represent equivalent ways of looking at the same concepts. It also helps illustrate that these algorithms are quite general and can be applied to many different problems."
   ]
  },
  {
   "cell_type": "code",
   "execution_count": 44,
   "metadata": {},
   "outputs": [
    {
     "data": {
      "text/plain": [
       "2"
      ]
     },
     "execution_count": 44,
     "metadata": {},
     "output_type": "execute_result"
    }
   ],
   "source": [
    "def dist_hamming(seq1, seq2):\n",
    "    \n",
    "    if len(seq1) != len(seq2):\n",
    "        return \"The Hamming distance is only defined for sequenes of equal length\"\n",
    "    \n",
    "    n_mismatches = 0\n",
    "    \n",
    "    for letter1, letter2 in zip(seq1, seq2):\n",
    "        if letter1 != letter2:\n",
    "            n_mismatches += 1\n",
    "    \n",
    "    return n_mismatches\n",
    "\n",
    "sequence1 = 'abcxyz'\n",
    "sequence2 = 'abxxyq'\n",
    "\n",
    "dist_hamming(sequence1, sequence2)"
   ]
  },
  {
   "cell_type": "markdown",
   "metadata": {},
   "source": [
    "A more compact version"
   ]
  },
  {
   "cell_type": "code",
   "execution_count": 1,
   "metadata": {},
   "outputs": [],
   "source": [
    "def dist_hamming(seq1, seq2):\n",
    "    if len(seq1) != len(seq2):\n",
    "        return \"The Hamming distance is only defined for sequenes of equal length\"\n",
    "    \n",
    "    return sum(letter1 != letter2 for letter1, letter2 in zip(seq1, seq2))"
   ]
  },
  {
   "cell_type": "markdown",
   "metadata": {},
   "source": [
    "# Bonus: Dynamic Time Warping"
   ]
  },
  {
   "cell_type": "markdown",
   "metadata": {},
   "source": [
    "Dynamic programming approaches were initially called \"multistage decision problems\"\n",
    "but the former was chosen since it sounded less \"mathy\"\n",
    "(true [story](https://pubsonline.informs.org/doi/pdf/10.1287/opre.50.1.48.17791))\n",
    "\n",
    "When it comes to sequence alignment, the more general problem is called \"dynamic time warping\" and is used to align\n",
    "different types of time series, such as audio recordings (to match slower and faster recordings - useful in voice recognition) and chromatographic elution profiles (the same analyte may elute at slightly different times in different runs - often one needs to align multiple runs). \n",
    "\n",
    "Further reading: https://en.wikipedia.org/wiki/Dynamic_time_warping"
   ]
  },
  {
   "cell_type": "code",
   "execution_count": 163,
   "metadata": {},
   "outputs": [],
   "source": [
    "import numpy as np\n",
    "\n",
    "from fastdtw import fastdtw\n",
    "from scipy.spatial.distance import euclidean\n",
    "\n",
    "times_1 = np.array([0, 2, 3, 4, 5])\n",
    "events_1 = np.array([100, 200, 100, 200, 100])\n",
    "\n",
    "times_2 = np.array([1, 3, 4, 6, 7])\n",
    "events_2 = np.array([200, 150, 210, 120, 205])\n",
    "\n",
    "signal_1 = np.array(list(zip(times_1, events_1)))\n",
    "signal_2 = np.array(list(zip(times_2, events_2)))"
   ]
  },
  {
   "cell_type": "markdown",
   "metadata": {},
   "source": [
    "[FastDTW](https://pypi.org/project/fastdtw/) is an algorithm that only approximately solves the alignment problem,\n",
    "by working only on windows of small sizes along the two signals (or \"sequences\")."
   ]
  },
  {
   "cell_type": "code",
   "execution_count": 161,
   "metadata": {
    "scrolled": false
   },
   "outputs": [
    {
     "data": {
      "image/png": "[encoded data removed]",
      "text/plain": [
       "<Figure size 720x432 with 1 Axes>"
      ]
     },
     "metadata": {},
     "output_type": "display_data"
    }
   ],
   "source": [
    "import matplotlib.pyplot as plt\n",
    "plt.rcParams['figure.figsize'] = (10, 6)\n",
    "plt.rcParams.update({'font.size': 14})\n",
    "plt.rc('axes', labelsize=20) \n",
    "\n",
    "_ = plt.plot(times_1, events_1, 'o-', label='$X_1$')\n",
    "_ = plt.plot(times_2, events_2, 'o-', label='$X_2$')\n",
    "_ = plt.xlabel('t')\n",
    "_ = plt.ylabel('frequency')\n",
    "_ = plt.legend()"
   ]
  },
  {
   "cell_type": "code",
   "execution_count": 165,
   "metadata": {},
   "outputs": [
    {
     "name": "stdout",
     "output_type": "stream",
     "text": [
      "[0 2 3 4 5 5]\n",
      "[1 1 3 4 6 7]\n"
     ]
    }
   ],
   "source": [
    "distance, time_indices_alignment = fastdtw(events_1, events_2, dist=euclidean, radius=10)\n",
    "\n",
    "time_indices_alignment = np.array(time_indices_alignment).T\n",
    "print(times_1[time_indices_alignment[0]])\n",
    "print(times_2[time_indices_alignment[1]])"
   ]
  },
  {
   "cell_type": "code",
   "execution_count": null,
   "metadata": {},
   "outputs": [],
   "source": []
  }
 ],
 "metadata": {
  "kernelspec": {
   "display_name": "Python 3",
   "language": "python",
   "name": "python3"
  },
  "language_info": {
   "codemirror_mode": {
    "name": "ipython",
    "version": 3
   },
   "file_extension": ".py",
   "mimetype": "text/x-python",
   "name": "python",
   "nbconvert_exporter": "python",
   "pygments_lexer": "ipython3",
   "version": "3.6.6"
  }
 },
 "nbformat": 4,
 "nbformat_minor": 2
}
